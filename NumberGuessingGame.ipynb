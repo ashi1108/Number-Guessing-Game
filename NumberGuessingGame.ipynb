{
  "nbformat": 4,
  "nbformat_minor": 0,
  "metadata": {
    "colab": {
      "provenance": [],
      "authorship_tag": "ABX9TyOs2MtpSTZ2rXfRu5MwP/VT",
      "include_colab_link": true
    },
    "kernelspec": {
      "name": "python3",
      "display_name": "Python 3"
    },
    "language_info": {
      "name": "python"
    }
  },
  "cells": [
    {
      "cell_type": "markdown",
      "metadata": {
        "id": "view-in-github",
        "colab_type": "text"
      },
      "source": [
        "<a href=\"https://colab.research.google.com/github/ashi1108/Number-Guessing-Game/blob/main/NumberGuessingGame.ipynb\" target=\"_parent\"><img src=\"https://colab.research.google.com/assets/colab-badge.svg\" alt=\"Open In Colab\"/></a>"
      ]
    },
    {
      "cell_type": "code",
      "execution_count": 1,
      "metadata": {
        "colab": {
          "base_uri": "https://localhost:8080/"
        },
        "id": "mTSLP72ARpHJ",
        "outputId": "21100986-3289-4faa-f6a9-2f001f397ad4"
      },
      "outputs": [
        {
          "output_type": "stream",
          "name": "stdout",
          "text": [
            "Welcome to the Number Guessing Game!\n",
            "Guess a number between 1 and 100: 55\n",
            "Too low. Try again!\n",
            "Guess a number between 1 and 100: 97\n",
            "Too high. Try again!\n",
            "Guess a number between 1 and 100: 74\n",
            "Too low. Try again!\n",
            "Guess a number between 1 and 100: 75\n",
            "Too low. Try again!\n",
            "Guess a number between 1 and 100: 80\n",
            "Too low. Try again!\n",
            "Guess a number between 1 and 100: 78\n",
            "Too low. Try again!\n",
            "Guess a number between 1 and 100: 86\n",
            "Too low. Try again!\n",
            "Guess a number between 1 and 100: 90\n",
            "Too low. Try again!\n",
            "Guess a number between 1 and 100: 95\n",
            "Too high. Try again!\n",
            "Guess a number between 1 and 100: 94\n",
            "Too high. Try again!\n",
            "Guess a number between 1 and 100: 93\n",
            "Too high. Try again!\n",
            "Guess a number between 1 and 100: 91\n",
            "Congratulations! You guessed the number in 12 attempts.\n"
          ]
        }
      ],
      "source": [
        "import random\n",
        "\n",
        "def number_guessing_game():\n",
        "    print(\"Welcome to the Number Guessing Game!\")\n",
        "    number_to_guess = random.randint(1, 100)\n",
        "    attempts = 0\n",
        "\n",
        "    while True:\n",
        "        try:\n",
        "            guess = int(input(\"Guess a number between 1 and 100: \"))\n",
        "            attempts += 1\n",
        "            if guess < 1 or guess > 100:\n",
        "                print(\"Please guess a number within the range 1 to 100.\")\n",
        "                continue\n",
        "        except ValueError:\n",
        "            print(\"That's not a valid number. Please try again.\")\n",
        "            continue\n",
        "\n",
        "        if guess < number_to_guess:\n",
        "            print(\"Too low. Try again!\")\n",
        "        elif guess > number_to_guess:\n",
        "            print(\"Too high. Try again!\")\n",
        "        else:\n",
        "            print(f\"Congratulations! You guessed the number in {attempts} attempts.\")\n",
        "            break\n",
        "\n",
        "if __name__ == \"__main__\":\n",
        "    number_guessing_game()"
      ]
    }
  ]
}